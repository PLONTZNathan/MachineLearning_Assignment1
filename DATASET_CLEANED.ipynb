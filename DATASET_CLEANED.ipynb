{
  "nbformat": 4,
  "nbformat_minor": 0,
  "metadata": {
    "colab": {
      "provenance": [],
      "authorship_tag": "ABX9TyPQpNSUk77whDdqOmRRqjoR",
      "include_colab_link": true
    },
    "kernelspec": {
      "name": "python3",
      "display_name": "Python 3"
    },
    "language_info": {
      "name": "python"
    }
  },
  "cells": [
    {
      "cell_type": "markdown",
      "metadata": {
        "id": "view-in-github",
        "colab_type": "text"
      },
      "source": [
        "<a href=\"https://colab.research.google.com/github/PLONTZNathan/MachineLearning_Assignment1/blob/elena/DATASET_CLEANED.ipynb\" target=\"_parent\"><img src=\"https://colab.research.google.com/assets/colab-badge.svg\" alt=\"Open In Colab\"/></a>"
      ]
    },
    {
      "cell_type": "code",
      "execution_count": 1,
      "metadata": {
        "id": "vBRZAQ9bfhQ7"
      },
      "outputs": [],
      "source": [
        "#Library\n",
        "import matplotlib.pyplot as plt\n",
        "import numpy as np\n",
        "import pandas as pd\n",
        "from sklearn.metrics import mean_squared_error\n",
        "from sklearn.model_selection import train_test_split\n",
        "from sklearn.preprocessing import StandardScaler, PolynomialFeatures\n",
        "from sklearn.pipeline import make_pipeline\n",
        "from sklearn.linear_model import Ridge, RidgeCV\n",
        "from sklearn.compose import ColumnTransformer\n",
        "import time"
      ]
    },
    {
      "cell_type": "code",
      "source": [
        "from google.colab import drive\n",
        "drive.mount('/content/drive')\n",
        "file_path = '/content/drive/MyDrive/X_train.csv'\n",
        "train = pd.read_csv(file_path)\n",
        "file_path_2 = '/content/drive/MyDrive/X_test.csv'\n",
        "test = pd.read_csv(file_path_2)"
      ],
      "metadata": {
        "colab": {
          "base_uri": "https://localhost:8080/"
        },
        "id": "cenyRxRhflNe",
        "outputId": "0efb996a-3d8a-4965-8675-b15ae54f019b"
      },
      "execution_count": 2,
      "outputs": [
        {
          "output_type": "stream",
          "name": "stdout",
          "text": [
            "Mounted at /content/drive\n"
          ]
        }
      ]
    },
    {
      "cell_type": "markdown",
      "source": [
        "**CHECK ZERO_TRAJECTORIES ON THE DATASET X_TRAIN**"
      ],
      "metadata": {
        "id": "kp_tubsvj8pL"
      }
    },
    {
      "cell_type": "code",
      "source": [
        "def check_trajectories_start_zero(df, traj_len=257):\n",
        "    num_traj = len(df) // traj_len\n",
        "    zero_traj = []\n",
        "\n",
        "    for i in range(num_traj):\n",
        "        start_idx = i * traj_len\n",
        "        first_row = df.iloc[start_idx]\n",
        "\n",
        "        # Controlla se tutti i valori della prima riga sono zero\n",
        "        if (first_row == 0).all():\n",
        "            zero_traj.append(i)\n",
        "\n",
        "    return zero_traj"
      ],
      "metadata": {
        "id": "oHxx5R4QfqRu"
      },
      "execution_count": 18,
      "outputs": []
    },
    {
      "cell_type": "code",
      "source": [
        "train_no_id = train.iloc[:, :-1]\n",
        "traj_zero=check_trajectories_start_zero(train_no_id,257)\n",
        "\n",
        "# convert trajectory indices into row indices\n",
        "row_indices = [i * 257 for i in traj_zero]\n",
        "\n",
        "print(\"Trajectories starting with zeros:\", traj_zero)\n",
        "print(\"Corresponding starting rows:\", row_indices)"
      ],
      "metadata": {
        "colab": {
          "base_uri": "https://localhost:8080/"
        },
        "id": "E8y8Eggefx3x",
        "outputId": "1451c8c6-590d-4107-f9f4-e16523cbde7a"
      },
      "execution_count": 19,
      "outputs": [
        {
          "output_type": "stream",
          "name": "stdout",
          "text": [
            "Trajectories starting with zeros: [1050, 4058]\n",
            "Corresponding starting rows: [269850, 1042906]\n"
          ]
        }
      ]
    },
    {
      "cell_type": "code",
      "source": [
        "def remove_zero_trajectories(df, zero_traj, traj_len=257):\n",
        "    drop_indices = []\n",
        "\n",
        "    for traj_id in zero_traj:\n",
        "        start = traj_id * traj_len\n",
        "        end = (traj_id + 1) * traj_len\n",
        "        drop_indices.extend(range(start, end))\n",
        "\n",
        "    df_cleaned = df.drop(drop_indices).reset_index(drop=True)\n",
        "    return df_cleaned"
      ],
      "metadata": {
        "id": "Zi5xSYxXf1SN"
      },
      "execution_count": 20,
      "outputs": []
    },
    {
      "cell_type": "code",
      "source": [
        "train_cleaned = remove_zero_trajectories(train, traj_zero, 257)"
      ],
      "metadata": {
        "id": "NRnM21xTgB-u"
      },
      "execution_count": 22,
      "outputs": []
    },
    {
      "cell_type": "markdown",
      "source": [
        "**CHECK ANOMALIES ON THE DATASE TRAIN_CLEANED**"
      ],
      "metadata": {
        "id": "zF13WoOkkFWU"
      }
    },
    {
      "cell_type": "code",
      "source": [
        "#Make sure you do not have the same initial positions in any two sets\n",
        "\n",
        "df_t0 = train_cleaned[train_cleaned[\"t\"] == 0].copy()\n",
        "coords = [\"x_1\", \"y_1\", \"x_2\", \"y_2\", \"x_3\", \"y_3\"]\n",
        "df_t0 = df_t0[~(df_t0[coords].eq(0).all(axis=1))]\n",
        "duplicates = df_t0[df_t0.duplicated(subset=coords, keep=False)]\n",
        "print(duplicates)#Never two times the same initial position"
      ],
      "metadata": {
        "colab": {
          "base_uri": "https://localhost:8080/"
        },
        "id": "slElNSZ_gBsx",
        "outputId": "69b1396d-d79a-4b87-cc00-e75e9635e356"
      },
      "execution_count": 23,
      "outputs": [
        {
          "output_type": "stream",
          "name": "stdout",
          "text": [
            "Empty DataFrame\n",
            "Columns: [t, x_1, y_1, v_x_1, v_y_1, x_2, y_2, v_x_2, v_y_2, x_3, y_3, v_x_3, v_y_3, Id]\n",
            "Index: []\n"
          ]
        }
      ]
    },
    {
      "cell_type": "code",
      "source": [
        "def check_dataset_anomalies(df):\n",
        "    print(\"Dataset anomalies check\\n\")\n",
        "\n",
        "    # 1. Check for missing values (NaN)\n",
        "    missing = df.isnull().sum().sum()\n",
        "    if missing == 0:\n",
        "        print(\"No missing values (NaN) found.\")\n",
        "    else:\n",
        "        print(f\"Found {missing} missing values (NaN).\")\n",
        "        print(df.isnull().sum()[df.isnull().sum() > 0])\n",
        "\n",
        "    # 2. Check for infinite values\n",
        "    inf_mask = df.isin([np.inf, -np.inf])\n",
        "    inf_count = inf_mask.sum().sum()\n",
        "    if inf_count == 0:\n",
        "        print(\"No infinite values (+inf, -inf) found.\")\n",
        "    else:\n",
        "        print(f\"Found {inf_count} infinite values.\")\n",
        "        print(inf_mask.sum()[inf_mask.sum() > 0])\n",
        "\n",
        "    # 3. Check for empty columns\n",
        "    empty_cols = [col for col in df.columns if df[col].isnull().all()]\n",
        "    if not empty_cols:\n",
        "        print(\"No empty columns.\")\n",
        "    else:\n",
        "        print(f\"Found empty columns: {empty_cols}\")\n"
      ],
      "metadata": {
        "id": "3397WDFSgzpH"
      },
      "execution_count": 24,
      "outputs": []
    },
    {
      "cell_type": "code",
      "source": [
        "check_dataset_anomalies(train_cleaned)"
      ],
      "metadata": {
        "colab": {
          "base_uri": "https://localhost:8080/"
        },
        "id": "9je6_u23hAAM",
        "outputId": "593ba57e-7243-456f-ea41-4d0872ac6f90"
      },
      "execution_count": 25,
      "outputs": [
        {
          "output_type": "stream",
          "name": "stdout",
          "text": [
            "Dataset anomalies check\n",
            "\n",
            "No missing values (NaN) found.\n",
            "No infinite values (+inf, -inf) found.\n",
            "No empty columns.\n"
          ]
        }
      ]
    },
    {
      "cell_type": "markdown",
      "source": [
        "**CHECK THE STATISTICS OF THE DATASET**"
      ],
      "metadata": {
        "id": "7hnVb66CkM2o"
      }
    },
    {
      "cell_type": "code",
      "source": [
        "def dataset_summary(df):\n",
        "    # Shape\n",
        "    print(f\"Shape: {df.shape[0]} rows, {df.shape[1]} columns\\n\")\n",
        "    # Stats per column\n",
        "    print(\"Basic statistics per column:\")\n",
        "    desc = df.describe().T\n",
        "    print(desc[['min', 'mean', 'max']])\n",
        "\n",
        "    # Standard deviation\n",
        "    desc['std'] = df.std()\n",
        "    print(\"\\nStandard deviation:\")\n",
        "    print(desc['std'])"
      ],
      "metadata": {
        "id": "89HwuMZ-igUS"
      },
      "execution_count": 28,
      "outputs": []
    },
    {
      "cell_type": "code",
      "source": [
        "train_cleaned_no_id = train_cleaned.iloc[:, :-1]\n",
        "dataset_summary(train_cleaned_no_id)"
      ],
      "metadata": {
        "colab": {
          "base_uri": "https://localhost:8080/"
        },
        "id": "OImc5Gr9ioWt",
        "outputId": "22ea2d87-c7ab-46b0-cafd-0f76600f0550"
      },
      "execution_count": 30,
      "outputs": [
        {
          "output_type": "stream",
          "name": "stdout",
          "text": [
            "Shape: 1284486 rows, 13 columns\n",
            "\n",
            "Basic statistics per column:\n",
            "             min      mean        max\n",
            "t       0.000000  4.146921  10.000000\n",
            "x_1   -30.823004 -0.281400  16.340610\n",
            "y_1   -17.857729 -0.109560  26.276226\n",
            "v_x_1 -72.993333 -0.184200  23.503455\n",
            "v_y_1 -23.109278 -0.016507  34.671679\n",
            "x_2   -30.833398  0.007174  15.506957\n",
            "y_2   -52.450808 -0.082044  35.679463\n",
            "v_x_2 -25.895550  0.032490  72.718229\n",
            "v_y_2 -48.289007 -0.083642  23.118346\n",
            "x_3   -17.439994  0.274226  61.656402\n",
            "y_3   -33.159997  0.191604  27.735539\n",
            "v_x_3 -30.970540  0.151710  25.964992\n",
            "v_y_3 -25.509384  0.100149  48.288738\n",
            "\n",
            "Standard deviation:\n",
            "t        3.209383\n",
            "x_1      1.696094\n",
            "y_1      1.167918\n",
            "v_x_1    0.877679\n",
            "v_y_1    0.806579\n",
            "x_2      1.063197\n",
            "y_2      1.038813\n",
            "v_x_2    0.936416\n",
            "v_y_2    0.975371\n",
            "x_3      1.443690\n",
            "y_3      1.683626\n",
            "v_x_3    0.788051\n",
            "v_y_3    0.871112\n",
            "Name: std, dtype: float64\n"
          ]
        }
      ]
    },
    {
      "cell_type": "markdown",
      "source": [
        "**CHECK ZERO_TRAJECTORIES ALSO ON THE DATASET X_TEST**"
      ],
      "metadata": {
        "id": "tdvTmgGSjy9J"
      }
    },
    {
      "cell_type": "code",
      "source": [
        "print(test.shape)"
      ],
      "metadata": {
        "colab": {
          "base_uri": "https://localhost:8080/"
        },
        "id": "4QRGGLK6hxhd",
        "outputId": "27228000-f709-4645-d795-abe927fe3980"
      },
      "execution_count": 26,
      "outputs": [
        {
          "output_type": "stream",
          "name": "stdout",
          "text": [
            "(1041621, 8)\n"
          ]
        }
      ]
    },
    {
      "cell_type": "code",
      "source": [
        "#check zero_traj on test dataset\n",
        "test_no_id = test.iloc[:, :-1]\n",
        "traj_zero_test=check_trajectories_start_zero(test_no_id,257)\n",
        "\n",
        "# convert trajectory indices into row indices\n",
        "row_indices_test = [i * 257 for i in traj_zero_test]\n",
        "\n",
        "print(\"Trajectories starting with zeros:\", traj_zero_test)\n",
        "print(\"Corresponding starting rows:\", row_indices_test)\n",
        "test_cleaned = remove_zero_trajectories(test, traj_zero_test, 257)"
      ],
      "metadata": {
        "colab": {
          "base_uri": "https://localhost:8080/"
        },
        "id": "KbLZMxxJhDgn",
        "outputId": "37dbea53-781a-4161-9c56-03ebaa2c4443"
      },
      "execution_count": 27,
      "outputs": [
        {
          "output_type": "stream",
          "name": "stdout",
          "text": [
            "Trajectories starting with zeros: []\n",
            "Corresponding starting rows: []\n"
          ]
        }
      ]
    }
  ]
}