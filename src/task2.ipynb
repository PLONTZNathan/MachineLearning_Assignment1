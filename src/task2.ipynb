{
 "cells": [
  {
   "cell_type": "code",
   "execution_count": null,
   "id": "35ed1370-0048-4842-bcad-b4df901bef87",
   "metadata": {},
   "outputs": [],
   "source": [
    "import matplotlib.pyplot as plt\n",
    "import numpy as np\n",
    "import pandas as pd\n",
    "import seaborn as sns\n",
    "from tqdm import tqdm\n",
    "import time\n",
    "from sklearn.preprocessing import StandardScaler, PolynomialFeatures\n",
    "from sklearn.pipeline import Pipeline, make_pipeline\n",
    "from sklearn.linear_model import LinearRegression, Lasso, Ridge, ElasticNet, RidgeCV\n",
    "from sklearn.compose import ColumnTransformer\n",
    "from sklearn.model_selection import train_test_split\n",
    "from sklearn.metrics import mean_squared_error,root_mean_squared_error\n",
    "import numpy as np\n",
    "import pandas as pd\n",
    "from sklearn.neighbors import KNeighborsRegressor\n",
    "\n",
    "from utils import clean_data\n",
    "from utils import split_trajectories\n",
    "from utils import replicate_initial_position_by_block\n",
    "from utils import get_n_trajectories\n",
    "from utils import plot_y_yhat"
   ]
  },
  {
   "cell_type": "code",
   "execution_count": null,
   "id": "b4029b0a-4bfd-452c-ab46-688b86217623",
   "metadata": {},
   "outputs": [],
   "source": [
    "train = pd.read_csv('../data/X_train.csv')\n",
    "test =  pd.read_csv('../data/X_test.csv')\n",
    "sample_submission = pd.read_csv('../data/sample_submission.csv')#This is a file with random numbers as predictions\n",
    "                                                                #dans le futur fichier résultat ne pas mettre l'index"
   ]
  },
  {
   "cell_type": "code",
   "execution_count": null,
   "id": "1da31f51-f2b8-4588-8a1c-eb0b7162dfa1",
   "metadata": {},
   "outputs": [],
   "source": [
    "train_cleaned=clean_data(train)"
   ]
  },
  {
   "cell_type": "code",
   "execution_count": null,
   "id": "3df77cb9-498d-4c5f-a8fc-0ec17b74bd76",
   "metadata": {},
   "outputs": [],
   "source": [
    "train_after_split, validation_after_split, test_after_split = split_trajectories(train_cleaned)"
   ]
  },
  {
   "cell_type": "code",
   "execution_count": null,
   "id": "93e86a32-56ce-4787-ab7d-095dd9119270",
   "metadata": {},
   "outputs": [],
   "source": [
    "train_entry=replicate_initial_position_by_block(train_after_split)\n",
    "validation_entry=replicate_initial_position_by_block(validation_after_split)\n",
    "test_entry=replicate_initial_position_by_block(test_after_split)"
   ]
  },
  {
   "cell_type": "code",
   "execution_count": null,
   "id": "7658a5b5-49f3-475b-8227-c1f0d0fac100",
   "metadata": {},
   "outputs": [],
   "source": [
    "input_cols = ['t', 'x_1', 'y_1', 'x_2', 'y_2', 'x_3', 'y_3']\n",
    "target_cols = ['x_1', 'y_1', 'x_2', 'y_2', 'x_3', 'y_3']\n",
    "X_train = train_entry[input_cols]          \n",
    "y_train = train_after_split[target_cols] \n",
    "\n",
    "X_val = validation_entry[input_cols]\n",
    "y_val = validation_after_split[target_cols]\n",
    "\n",
    "X_test = test_entry[input_cols]\n",
    "y_test= test_after_split[target_cols]"
   ]
  },
  {
   "cell_type": "code",
   "execution_count": null,
   "id": "98d7ca59-af3a-460d-b9e5-b82413f45650",
   "metadata": {},
   "outputs": [],
   "source": [
    "nb_traj=10\n",
    "#train_entry_subset= get_n_trajectories(train_entry, nb_traj)\n",
    "#train_entry_subset = train_entry_subset[['t', 'x_1', 'y_1', 'x_2', 'y_2', 'x_3', 'y_3']]\n",
    "\n",
    "#train_after_split_subset= get_n_trajectories(train_after_split, nb_traj)\n",
    "#train_after_split_subset = train_after_split_subset[['x_1', 'y_1', 'x_2', 'y_2', 'x_3', 'y_3']]\n",
    "\n",
    "#validation_entry_subset = get_n_trajectories(validation_entry, nb_traj)\n",
    "#validation_entry_subset = validation_entry_subset[['t', 'x_1', 'y_1', 'x_2', 'y_2', 'x_3', 'y_3']]\n",
    "\n",
    "#validation_after_split_subset = get_n_trajectories(validation_after_split, nb_traj)\n",
    "#validation_after_split_subset = validation_after_split_subset[['x_1', 'y_1', 'x_2', 'y_2', 'x_3', 'y_3']]"
   ]
  },
  {
   "cell_type": "code",
   "execution_count": null,
   "id": "b59953bf-593c-4faa-9b16-75aedbfa1f0b",
   "metadata": {},
   "outputs": [],
   "source": [
    "def validate_poly_regression(X_train, y_train, X_val, y_val, regressor=None, degrees=range(1,5), max_features=None):\n",
    "    \"\"\"\n",
    "    Validate polynomial regression models with optional regularization.\n",
    "    Returns best model, RMSE, degree, regularization type, and alpha.\n",
    "    Also prints elapsed time.\n",
    "    \"\"\"\n",
    "    start_time = time.time()  # start timing\n",
    "\n",
    "    best_rmse = np.inf\n",
    "    best_model = None\n",
    "    best_degree = None\n",
    "    best_alpha = None\n",
    "    best_reg = None\n",
    "\n",
    "    alphas = np.logspace(-5, 5, 11)\n",
    "\n",
    "    for degree in tqdm(degrees, desc=\"Testing degrees\"):\n",
    "        poly = PolynomialFeatures(degree=degree, include_bias=False)\n",
    "        poly.fit(X_train)\n",
    "        n_features = poly.n_output_features_\n",
    "        print(f\"Degree {degree}: {n_features} features\")\n",
    "\n",
    "        if max_features and n_features > max_features:\n",
    "            print(f\" Skipped degree {degree} (too many features: {n_features})\")\n",
    "            continue\n",
    "\n",
    "        for alpha in alphas:\n",
    "            if regressor == 'L1':\n",
    "                model = Lasso(alpha=alpha, max_iter=5000, random_state=42)\n",
    "            elif regressor == 'L2':\n",
    "                model = Ridge(alpha=alpha, random_state=42)\n",
    "            else:\n",
    "                model = LinearRegression()\n",
    "                alpha = None  # pas de régularisation\n",
    "                regressor = 'None'\n",
    "\n",
    "            pipe = Pipeline([\n",
    "                ('scaler', StandardScaler()),\n",
    "                ('poly', poly),\n",
    "                ('reg', model)\n",
    "            ])\n",
    "\n",
    "            pipe.fit(X_train, y_train)\n",
    "            y_pred = pipe.predict(X_val)\n",
    "            rmse = root_mean_squared_error(y_val, y_pred)\n",
    "\n",
    "            if rmse < best_rmse:\n",
    "                best_rmse = rmse\n",
    "                best_model = pipe\n",
    "                best_degree = degree\n",
    "                best_alpha = alpha\n",
    "                best_reg = regressor\n",
    "\n",
    "    elapsed_time = time.time() - start_time  # end timing\n",
    "    print(f\"\\n⏱️ Total elapsed time: {elapsed_time:.2f} seconds\")\n",
    "    print(f\"✅ Best model: degree={best_degree}, RMSE={best_rmse:.4f}, reg={best_reg}, alpha={best_alpha}\")\n",
    "\n",
    "    return best_model, best_rmse, best_degree, best_reg, best_alpha"
   ]
  },
  {
   "cell_type": "code",
   "execution_count": null,
   "id": "7f6d1f62-a689-49cf-9858-2d305aa1b338",
   "metadata": {},
   "outputs": [],
   "source": [
    "best_model_L1, best_rmse_L1, best_degree_L1, best_reg_L1, best_alpha_L1 = validate_poly_regression(\n",
    "   X_train, y_train,X_val,y_val, regressor='L1'\n",
    ")\n",
    "\n",
    "best_model_L2, best_rmse_L2, best_degree_L2, best_reg_L2, best_alpha_L2 = validate_poly_regression(\n",
    "   X_train, y_train,X_val,y_val, regressor='L2'\n",
    ")\n",
    "\n",
    "best_model_L, best_rmse_L, best_degree_L, best_reg_L, best_alpha_L = validate_poly_regression(\n",
    "   X_train, y_train,X_val,y_val\n",
    ")"
   ]
  },
  {
   "cell_type": "code",
   "execution_count": null,
   "id": "eb8b26cb-b007-4b01-a27c-95b1f7029c5e",
   "metadata": {},
   "outputs": [],
   "source": [
    "y_pred = best_model_L2.predict(X_val)\n",
    "plot_y_yhat(y_val.values, y_pred, plot_title=\"Best Model Predictions\")"
   ]
  },
  {
   "cell_type": "code",
   "execution_count": null,
   "id": "2ae2becc-2103-4c64-aeae-e09e7f75db46",
   "metadata": {},
   "outputs": [],
   "source": [
    "X_test = test[['t','x0_1','y0_1','x0_2','y0_2','x0_3','y0_3']].copy()\n",
    "X_test.columns = ['t','x_1','y_1','x_2','y_2','x_3','y_3'] \n",
    "\n",
    "\n",
    "ids = test['Id']\n",
    "\n",
    "\n",
    "predictions = best_model_L2.predict(X_test)\n",
    "\n",
    "target_cols = ['x_1','y_1','x_2','y_2','x_3','y_3']\n",
    "output_df = pd.DataFrame(predictions, columns=target_cols)\n",
    "output_df.insert(0, 'Id', ids)\n",
    "\n",
    "\n",
    "output_df.to_csv('augmented_polynomial_submission.csv', index=False)"
   ]
  }
 ],
 "metadata": {
  "kernelspec": {
   "display_name": "Python 3 (ipykernel)",
   "language": "python",
   "name": "python3"
  },
  "language_info": {
   "codemirror_mode": {
    "name": "ipython",
    "version": 3
   },
   "file_extension": ".py",
   "mimetype": "text/x-python",
   "name": "python",
   "nbconvert_exporter": "python",
   "pygments_lexer": "ipython3",
   "version": "3.13.5"
  }
 },
 "nbformat": 4,
 "nbformat_minor": 5
}
