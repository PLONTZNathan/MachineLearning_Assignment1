{
  "nbformat": 4,
  "nbformat_minor": 0,
  "metadata": {
    "colab": {
      "provenance": [],
      "authorship_tag": "ABX9TyMLXB5VMpAhhJ9C+2m6/hhW",
      "include_colab_link": true
    },
    "kernelspec": {
      "name": "python3",
      "display_name": "Python 3"
    },
    "language_info": {
      "name": "python"
    }
  },
  "cells": [
    {
      "cell_type": "markdown",
      "metadata": {
        "id": "view-in-github",
        "colab_type": "text"
      },
      "source": [
        "<a href=\"https://colab.research.google.com/github/PLONTZNathan/MachineLearning_Assignment1/blob/elena/DATASET_3.ipynb\" target=\"_parent\"><img src=\"https://colab.research.google.com/assets/colab-badge.svg\" alt=\"Open In Colab\"/></a>"
      ]
    },
    {
      "cell_type": "code",
      "execution_count": 1,
      "metadata": {
        "id": "naHRsB05nFP1"
      },
      "outputs": [],
      "source": [
        "#Library\n",
        "import matplotlib.pyplot as plt\n",
        "import numpy as np\n",
        "import pandas as pd\n",
        "from sklearn.metrics import mean_squared_error\n",
        "from sklearn.model_selection import train_test_split\n",
        "from sklearn.preprocessing import StandardScaler, PolynomialFeatures\n",
        "from sklearn.pipeline import make_pipeline\n",
        "from sklearn.linear_model import Ridge, RidgeCV\n",
        "from sklearn.compose import ColumnTransformer\n",
        "import time"
      ]
    },
    {
      "cell_type": "code",
      "source": [
        "from google.colab import drive\n",
        "drive.mount('/content/drive')\n",
        "file_path = '/content/drive/MyDrive/X_train.csv'\n",
        "train = pd.read_csv(file_path)\n",
        "file_path_2 = '/content/drive/MyDrive/X_test.csv'\n",
        "test = pd.read_csv(file_path_2)"
      ],
      "metadata": {
        "colab": {
          "base_uri": "https://localhost:8080/"
        },
        "id": "kTrISYUCnJOL",
        "outputId": "7392ce25-25e3-4cc4-c076-48d221b265ce"
      },
      "execution_count": 2,
      "outputs": [
        {
          "output_type": "stream",
          "name": "stdout",
          "text": [
            "Mounted at /content/drive\n"
          ]
        }
      ]
    },
    {
      "cell_type": "markdown",
      "source": [
        "**DATASET WITHOUT ALL THE COLLISIONS**"
      ],
      "metadata": {
        "id": "LO4LAex-nQs7"
      }
    },
    {
      "cell_type": "code",
      "source": [
        "def remove_collision(df, traj_len=257, tol=1e-8):\n",
        "\n",
        "    cleaned = []\n",
        "    num_traj = len(df) // traj_len\n",
        "\n",
        "    for i in range(num_traj):\n",
        "        start = i * traj_len\n",
        "        end = (i + 1) * traj_len\n",
        "        traj = df.iloc[start:end]\n",
        "\n",
        "        traj_features = traj.iloc[:, :-1]\n",
        "\n",
        "        zero_mask = (np.abs(traj_features.values) < tol).all(axis=1)\n",
        "\n",
        "        if zero_mask.any():\n",
        "            first_zero = zero_mask.argmax() + start\n",
        "            traj = traj.loc[start:first_zero-1]\n",
        "\n",
        "        cleaned.append(traj)\n",
        "\n",
        "    cleaned_df = pd.concat(cleaned).reset_index(drop=True)\n",
        "    return cleaned_df\n",
        "\n"
      ],
      "metadata": {
        "id": "Wis1GlbnnQa-"
      },
      "execution_count": 22,
      "outputs": []
    },
    {
      "cell_type": "code",
      "source": [
        "train_no_collisions=remove_collision(train, 257, 1e-8)"
      ],
      "metadata": {
        "id": "19i3skG7n8be"
      },
      "execution_count": 23,
      "outputs": []
    },
    {
      "cell_type": "code",
      "source": [
        "print(train.shape)\n",
        "print(train_no_collisions.shape)"
      ],
      "metadata": {
        "colab": {
          "base_uri": "https://localhost:8080/"
        },
        "id": "y_8-u0nMoFRL",
        "outputId": "6c1cdaab-e7e0-4a98-91ec-696587ad5a6a"
      },
      "execution_count": 24,
      "outputs": [
        {
          "output_type": "stream",
          "name": "stdout",
          "text": [
            "(1285000, 14)\n",
            "(1089790, 14)\n"
          ]
        }
      ]
    },
    {
      "cell_type": "markdown",
      "source": [
        "**DATASET THAT KEEP JUST THE FIRST ROW OF COLLISIONS**"
      ],
      "metadata": {
        "id": "3fGCUGW7rP-J"
      }
    },
    {
      "cell_type": "code",
      "source": [
        "def get_time_vector(df, traj_len=257, tol=1e-8):\n",
        "\n",
        "    num_traj = len(df) // traj_len\n",
        "    feats = df.iloc[:, 1:-1].to_numpy()   # tutte le feature tranne tempo e Id\n",
        "\n",
        "    for i in range(num_traj):\n",
        "        start = i * traj_len\n",
        "        end = start + traj_len\n",
        "\n",
        "        block_feats = feats[start:end]\n",
        "        zero_mask = np.all(np.abs(block_feats) < tol, axis=1)\n",
        "\n",
        "        if not zero_mask.any():  # nessuna collisione\n",
        "            return df.iloc[start:end, 0].to_numpy()  # solo la colonna tempo\n",
        "\n",
        "    return None  # se tutte collidono\n"
      ],
      "metadata": {
        "id": "MX60bhJSrgrj"
      },
      "execution_count": 33,
      "outputs": []
    },
    {
      "cell_type": "code",
      "source": [
        "time_vec= get_time_vector(train, traj_len=257)\n",
        "print(time_vec)"
      ],
      "metadata": {
        "colab": {
          "base_uri": "https://localhost:8080/"
        },
        "id": "jbKhSrYfr05X",
        "outputId": "38b0ae17-f1d0-49f2-ecfd-254f66b7be17"
      },
      "execution_count": 35,
      "outputs": [
        {
          "output_type": "stream",
          "name": "stdout",
          "text": [
            "[ 0.         0.0390625  0.078125   0.117188   0.15625    0.195312\n",
            "  0.234375   0.273438   0.3125     0.351562   0.390625   0.429688\n",
            "  0.46875    0.507812   0.546875   0.585938   0.625      0.664062\n",
            "  0.703125   0.742188   0.78125    0.820312   0.859375   0.898438\n",
            "  0.9375     0.976562   1.01562    1.05469    1.09375    1.13281\n",
            "  1.17188    1.21094    1.25       1.28906    1.32812    1.36719\n",
            "  1.40625    1.44531    1.48438    1.52344    1.5625     1.60156\n",
            "  1.64062    1.67969    1.71875    1.75781    1.79688    1.83594\n",
            "  1.875      1.91406    1.95312    1.99219    2.03125    2.07031\n",
            "  2.10938    2.14844    2.1875     2.22656    2.26562    2.30469\n",
            "  2.34375    2.38281    2.42188    2.46094    2.5        2.53906\n",
            "  2.57812    2.61719    2.65625    2.69531    2.73438    2.77344\n",
            "  2.8125     2.85156    2.89062    2.92969    2.96875    3.00781\n",
            "  3.04688    3.08594    3.125      3.16406    3.20312    3.24219\n",
            "  3.28125    3.32031    3.35938    3.39844    3.4375     3.47656\n",
            "  3.51562    3.55469    3.59375    3.63281    3.67188    3.71094\n",
            "  3.75       3.78906    3.82812    3.86719    3.90625    3.94531\n",
            "  3.98438    4.02344    4.0625     4.10156    4.14062    4.17969\n",
            "  4.21875    4.25781    4.29688    4.33594    4.375      4.41406\n",
            "  4.45312    4.49219    4.53125    4.57031    4.60938    4.64844\n",
            "  4.6875     4.72656    4.76562    4.80469    4.84375    4.88281\n",
            "  4.92188    4.96094    5.         5.03906    5.07812    5.11719\n",
            "  5.15625    5.19531    5.23438    5.27344    5.3125     5.35156\n",
            "  5.39062    5.42969    5.46875    5.50781    5.54688    5.58594\n",
            "  5.625      5.66406    5.70312    5.74219    5.78125    5.82031\n",
            "  5.85938    5.89844    5.9375     5.97656    6.01562    6.05469\n",
            "  6.09375    6.13281    6.17188    6.21094    6.25       6.28906\n",
            "  6.32812    6.36719    6.40625    6.44531    6.48438    6.52344\n",
            "  6.5625     6.60156    6.64062    6.67969    6.71875    6.75781\n",
            "  6.79688    6.83594    6.875      6.91406    6.95312    6.99219\n",
            "  7.03125    7.07031    7.10938    7.14844    7.1875     7.22656\n",
            "  7.26562    7.30469    7.34375    7.38281    7.42188    7.46094\n",
            "  7.5        7.53906    7.57812    7.61719    7.65625    7.69531\n",
            "  7.73438    7.77344    7.8125     7.85156    7.89062    7.92969\n",
            "  7.96875    8.00781    8.04688    8.08594    8.125      8.16406\n",
            "  8.20312    8.24219    8.28125    8.32031    8.35938    8.39844\n",
            "  8.4375     8.47656    8.51562    8.55469    8.59375    8.63281\n",
            "  8.67188    8.71094    8.75       8.78906    8.82812    8.86719\n",
            "  8.90625    8.94531    8.98438    9.02344    9.0625     9.10156\n",
            "  9.14062    9.17969    9.21875    9.25781    9.29688    9.33594\n",
            "  9.375      9.41406    9.45312    9.49219    9.53125    9.57031\n",
            "  9.60938    9.64844    9.6875     9.72656    9.76562    9.80469\n",
            "  9.84375    9.88281    9.92188    9.96094   10.       ]\n"
          ]
        }
      ]
    },
    {
      "cell_type": "code",
      "source": [
        "def keep_first_zero_time(df, time_vec, traj_len=257, tol=1e-8):\n",
        "\n",
        "    cleaned = []\n",
        "    num_traj = len(df) // traj_len\n",
        "\n",
        "    for i in range(num_traj):\n",
        "        start = i * traj_len\n",
        "        end = (i + 1) * traj_len\n",
        "        traj = df.iloc[start:end].copy()\n",
        "\n",
        "        traj_features = traj.iloc[:, :-1]\n",
        "\n",
        "        zero_mask = (np.abs(traj_features.values) < tol).all(axis=1)\n",
        "\n",
        "        if zero_mask.any():\n",
        "            first_zero_rel = int(np.argmax(zero_mask))   # posizione relativa\n",
        "            # change the t=0 to t=time_vec[i]\n",
        "            traj.iat[first_zero_rel, 0] = time_vec[first_zero_rel]\n",
        "            traj = traj.iloc[:first_zero_rel + 1]\n",
        "\n",
        "        cleaned.append(traj)\n",
        "\n",
        "    cleaned_df = pd.concat(cleaned).reset_index(drop=True)\n",
        "    return cleaned_df\n"
      ],
      "metadata": {
        "id": "nm57sq5GxFgJ"
      },
      "execution_count": 69,
      "outputs": []
    },
    {
      "cell_type": "code",
      "source": [
        "train_first_row_time=keep_first_zero_time(train, time_vec, traj_len=257, tol=1e-8)"
      ],
      "metadata": {
        "id": "nRMzlIVvx_LD"
      },
      "execution_count": 86,
      "outputs": []
    },
    {
      "cell_type": "code",
      "source": [
        "print(train_first_row_time[518:522])"
      ],
      "metadata": {
        "colab": {
          "base_uri": "https://localhost:8080/"
        },
        "id": "qDwcC6ftyPLu",
        "outputId": "2833f4b0-eb44-42e2-9944-73956adf8858"
      },
      "execution_count": 87,
      "outputs": [
        {
          "output_type": "stream",
          "name": "stdout",
          "text": [
            "            t       x_1       y_1     v_x_1     v_y_1       x_2       y_2  \\\n",
            "518  0.156250  0.989271  0.000104 -0.138188  0.001097 -0.476416  0.064174   \n",
            "519  0.195312  0.000000  0.000000  0.000000  0.000000  0.000000  0.000000   \n",
            "520  0.000000  1.000000  0.000000  0.000000  0.000000 -0.081487  0.726750   \n",
            "521  0.039062  0.999457  0.000186 -0.027789  0.009550 -0.081250  0.726264   \n",
            "\n",
            "        v_x_2     v_y_2       x_3       y_3     v_x_3     v_y_3   Id  \n",
            "518 -0.515444 -2.106407 -0.512855 -0.064278  0.653633  2.105310  518  \n",
            "519  0.000000  0.000000  0.000000  0.000000  0.000000  0.000000  519  \n",
            "520  0.000000  0.000000 -0.918513 -0.726750  0.000000  0.000000  771  \n",
            "521  0.012175 -0.024874 -0.918208 -0.726450  0.015613  0.015324  772  \n"
          ]
        }
      ]
    },
    {
      "cell_type": "code",
      "source": [
        "print(train.shape)\n",
        "print(train_first_row_time.shape)"
      ],
      "metadata": {
        "colab": {
          "base_uri": "https://localhost:8080/"
        },
        "id": "KiQP3TaCy6-o",
        "outputId": "069bbf02-274d-4b7d-fca6-a9ce7323a4ca"
      },
      "execution_count": 84,
      "outputs": [
        {
          "output_type": "stream",
          "name": "stdout",
          "text": [
            "(1285000, 14)\n",
            "(1090737, 14)\n"
          ]
        }
      ]
    },
    {
      "cell_type": "code",
      "source": [
        "#without changing the time\n",
        "def remove_collision_keep_first_zero(df, traj_len=257, tol=1e-8):\n",
        "\n",
        "    cleaned = []\n",
        "    num_traj = len(df) // traj_len\n",
        "\n",
        "    for i in range(num_traj):\n",
        "        start = i * traj_len\n",
        "        end = (i + 1) * traj_len\n",
        "        traj = df.iloc[start:end]\n",
        "\n",
        "        traj_features = traj.iloc[:, :-1]\n",
        "\n",
        "        zero_mask = (np.abs(traj_features.values) < tol).all(axis=1)\n",
        "\n",
        "        if zero_mask.any():\n",
        "            first_zero = zero_mask.argmax() + start\n",
        "            traj = traj.loc[start:first_zero]  # keep up to the first zero row\n",
        "        cleaned.append(traj)\n",
        "\n",
        "    cleaned_df = pd.concat(cleaned).reset_index(drop=True)\n",
        "    return cleaned_df\n"
      ],
      "metadata": {
        "id": "kN58pDQVovkC"
      },
      "execution_count": 77,
      "outputs": []
    },
    {
      "cell_type": "code",
      "source": [
        "train_first_row=remove_collision_keep_first_zero(train, 257, 1e-8)"
      ],
      "metadata": {
        "id": "ZtlQOQP3o7Sy"
      },
      "execution_count": 78,
      "outputs": []
    },
    {
      "cell_type": "code",
      "source": [
        "print(train_first_row[518:522])"
      ],
      "metadata": {
        "colab": {
          "base_uri": "https://localhost:8080/"
        },
        "id": "Plmi2Gg7yosu",
        "outputId": "96bd2a0a-19ad-406b-bf82-4e7c492e3824"
      },
      "execution_count": 82,
      "outputs": [
        {
          "output_type": "stream",
          "name": "stdout",
          "text": [
            "            t       x_1       y_1     v_x_1     v_y_1       x_2       y_2  \\\n",
            "518  0.156250  0.989271  0.000104 -0.138188  0.001097 -0.476416  0.064174   \n",
            "519  0.000000  0.000000  0.000000  0.000000  0.000000  0.000000  0.000000   \n",
            "520  0.000000  1.000000  0.000000  0.000000  0.000000 -0.081487  0.726750   \n",
            "521  0.039062  0.999457  0.000186 -0.027789  0.009550 -0.081250  0.726264   \n",
            "\n",
            "        v_x_2     v_y_2       x_3       y_3     v_x_3     v_y_3   Id  \n",
            "518 -0.515444 -2.106407 -0.512855 -0.064278  0.653633  2.105310  518  \n",
            "519  0.000000  0.000000  0.000000  0.000000  0.000000  0.000000  519  \n",
            "520  0.000000  0.000000 -0.918513 -0.726750  0.000000  0.000000  771  \n",
            "521  0.012175 -0.024874 -0.918208 -0.726450  0.015613  0.015324  772  \n"
          ]
        }
      ]
    },
    {
      "cell_type": "code",
      "source": [
        "print(train.shape)\n",
        "print(train_first_row.shape)"
      ],
      "metadata": {
        "colab": {
          "base_uri": "https://localhost:8080/"
        },
        "id": "9MDgw5r5pJED",
        "outputId": "487f7918-6569-475b-abea-cdfda33db14f"
      },
      "execution_count": 79,
      "outputs": [
        {
          "output_type": "stream",
          "name": "stdout",
          "text": [
            "(1285000, 14)\n",
            "(1090737, 14)\n"
          ]
        }
      ]
    }
  ]
}