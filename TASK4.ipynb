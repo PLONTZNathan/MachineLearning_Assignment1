{
  "nbformat": 4,
  "nbformat_minor": 0,
  "metadata": {
    "colab": {
      "provenance": [],
      "authorship_tag": "ABX9TyNQt6tyYx6NLjB6BDpOvd81",
      "include_colab_link": true
    },
    "kernelspec": {
      "name": "python3",
      "display_name": "Python 3"
    },
    "language_info": {
      "name": "python"
    }
  },
  "cells": [
    {
      "cell_type": "markdown",
      "metadata": {
        "id": "view-in-github",
        "colab_type": "text"
      },
      "source": [
        "<a href=\"https://colab.research.google.com/github/PLONTZNathan/MachineLearning_Assignment1/blob/elena/TASK4.ipynb\" target=\"_parent\"><img src=\"https://colab.research.google.com/assets/colab-badge.svg\" alt=\"Open In Colab\"/></a>"
      ]
    },
    {
      "cell_type": "code",
      "execution_count": 1,
      "metadata": {
        "id": "tbR6hHskD76K"
      },
      "outputs": [],
      "source": [
        "import pandas as pd\n",
        "import numpy as np\n",
        "import seaborn as sns\n",
        "import matplotlib.pyplot as plt\n",
        "from sklearn.metrics import mean_squared_error\n",
        "from sklearn.linear_model import LinearRegression"
      ]
    },
    {
      "cell_type": "code",
      "source": [
        "from google.colab import drive\n",
        "drive.mount('/content/drive')\n",
        "file_path = '/content/drive/MyDrive/X_train.csv'\n",
        "train = pd.read_csv(file_path)\n",
        "file_path_2 = '/content/drive/MyDrive/X_test.csv'\n",
        "test = pd.read_csv(file_path_2)"
      ],
      "metadata": {
        "colab": {
          "base_uri": "https://localhost:8080/"
        },
        "id": "JO1xJxmcEOds",
        "outputId": "6b3229df-97d3-4dd1-889c-3006ac759b2c"
      },
      "execution_count": 2,
      "outputs": [
        {
          "output_type": "stream",
          "name": "stdout",
          "text": [
            "Mounted at /content/drive\n"
          ]
        }
      ]
    },
    {
      "cell_type": "markdown",
      "source": [
        "**DATA CLEANED**"
      ],
      "metadata": {
        "id": "U9alkf-EFYbu"
      }
    },
    {
      "cell_type": "code",
      "source": [
        "def check_trajectories_start_zero(df, traj_len=257):\n",
        "    num_traj = len(df) // traj_len\n",
        "    zero_traj = []\n",
        "\n",
        "    for i in range(num_traj):\n",
        "        start_idx = i * traj_len\n",
        "        first_row = df.iloc[start_idx]\n",
        "\n",
        "        # Controlla se tutti i valori della prima riga sono zero\n",
        "        if (first_row == 0).all():\n",
        "            zero_traj.append(i)\n",
        "\n",
        "    return zero_traj"
      ],
      "metadata": {
        "id": "1l6XZcDbERFt"
      },
      "execution_count": 3,
      "outputs": []
    },
    {
      "cell_type": "code",
      "source": [
        "train_no_id = train.iloc[:, :-1]\n",
        "traj_zero=check_trajectories_start_zero(train_no_id,257)"
      ],
      "metadata": {
        "id": "-1cXiY-xEuFb"
      },
      "execution_count": 4,
      "outputs": []
    },
    {
      "cell_type": "code",
      "source": [
        "def remove_zero_trajectories(df, zero_traj, traj_len=257):\n",
        "    drop_indices = []\n",
        "\n",
        "    for traj_id in zero_traj:\n",
        "        start = traj_id * traj_len\n",
        "        end = (traj_id + 1) * traj_len\n",
        "        drop_indices.extend(range(start, end))\n",
        "\n",
        "    df_cleaned = df.drop(drop_indices).reset_index(drop=True)\n",
        "    return df_cleaned"
      ],
      "metadata": {
        "id": "qOsgSvalEt7z"
      },
      "execution_count": 5,
      "outputs": []
    },
    {
      "cell_type": "code",
      "source": [
        "train_cleaned = remove_zero_trajectories(train, traj_zero, 257)"
      ],
      "metadata": {
        "id": "T_L6bJUTEy8g"
      },
      "execution_count": 6,
      "outputs": []
    },
    {
      "cell_type": "code",
      "source": [
        "def get_time_vector(df, traj_len=257, tol=1e-8):\n",
        "\n",
        "    num_traj = len(df) // traj_len\n",
        "    feats = df.iloc[:, 1:-1].to_numpy()   # tutte le feature tranne tempo e Id\n",
        "\n",
        "    for i in range(num_traj):\n",
        "        start = i * traj_len\n",
        "        end = start + traj_len\n",
        "\n",
        "        block_feats = feats[start:end]\n",
        "        zero_mask = np.all(np.abs(block_feats) < tol, axis=1)\n",
        "\n",
        "        if not zero_mask.any():  # nessuna collisione\n",
        "            return df.iloc[start:end, 0].to_numpy()  # solo la colonna tempo\n",
        "\n",
        "    return None  # se tutte collidono"
      ],
      "metadata": {
        "id": "Fs9PKW0sFNe6"
      },
      "execution_count": 7,
      "outputs": []
    },
    {
      "cell_type": "code",
      "source": [
        "time_vec= get_time_vector(train, traj_len=257)\n",
        "print(time_vec)"
      ],
      "metadata": {
        "colab": {
          "base_uri": "https://localhost:8080/"
        },
        "id": "RZEm4z0tFPd6",
        "outputId": "13362005-9a3a-41ac-889b-43891afeb0f1"
      },
      "execution_count": 8,
      "outputs": [
        {
          "output_type": "stream",
          "name": "stdout",
          "text": [
            "[ 0.         0.0390625  0.078125   0.117188   0.15625    0.195312\n",
            "  0.234375   0.273438   0.3125     0.351562   0.390625   0.429688\n",
            "  0.46875    0.507812   0.546875   0.585938   0.625      0.664062\n",
            "  0.703125   0.742188   0.78125    0.820312   0.859375   0.898438\n",
            "  0.9375     0.976562   1.01562    1.05469    1.09375    1.13281\n",
            "  1.17188    1.21094    1.25       1.28906    1.32812    1.36719\n",
            "  1.40625    1.44531    1.48438    1.52344    1.5625     1.60156\n",
            "  1.64062    1.67969    1.71875    1.75781    1.79688    1.83594\n",
            "  1.875      1.91406    1.95312    1.99219    2.03125    2.07031\n",
            "  2.10938    2.14844    2.1875     2.22656    2.26562    2.30469\n",
            "  2.34375    2.38281    2.42188    2.46094    2.5        2.53906\n",
            "  2.57812    2.61719    2.65625    2.69531    2.73438    2.77344\n",
            "  2.8125     2.85156    2.89062    2.92969    2.96875    3.00781\n",
            "  3.04688    3.08594    3.125      3.16406    3.20312    3.24219\n",
            "  3.28125    3.32031    3.35938    3.39844    3.4375     3.47656\n",
            "  3.51562    3.55469    3.59375    3.63281    3.67188    3.71094\n",
            "  3.75       3.78906    3.82812    3.86719    3.90625    3.94531\n",
            "  3.98438    4.02344    4.0625     4.10156    4.14062    4.17969\n",
            "  4.21875    4.25781    4.29688    4.33594    4.375      4.41406\n",
            "  4.45312    4.49219    4.53125    4.57031    4.60938    4.64844\n",
            "  4.6875     4.72656    4.76562    4.80469    4.84375    4.88281\n",
            "  4.92188    4.96094    5.         5.03906    5.07812    5.11719\n",
            "  5.15625    5.19531    5.23438    5.27344    5.3125     5.35156\n",
            "  5.39062    5.42969    5.46875    5.50781    5.54688    5.58594\n",
            "  5.625      5.66406    5.70312    5.74219    5.78125    5.82031\n",
            "  5.85938    5.89844    5.9375     5.97656    6.01562    6.05469\n",
            "  6.09375    6.13281    6.17188    6.21094    6.25       6.28906\n",
            "  6.32812    6.36719    6.40625    6.44531    6.48438    6.52344\n",
            "  6.5625     6.60156    6.64062    6.67969    6.71875    6.75781\n",
            "  6.79688    6.83594    6.875      6.91406    6.95312    6.99219\n",
            "  7.03125    7.07031    7.10938    7.14844    7.1875     7.22656\n",
            "  7.26562    7.30469    7.34375    7.38281    7.42188    7.46094\n",
            "  7.5        7.53906    7.57812    7.61719    7.65625    7.69531\n",
            "  7.73438    7.77344    7.8125     7.85156    7.89062    7.92969\n",
            "  7.96875    8.00781    8.04688    8.08594    8.125      8.16406\n",
            "  8.20312    8.24219    8.28125    8.32031    8.35938    8.39844\n",
            "  8.4375     8.47656    8.51562    8.55469    8.59375    8.63281\n",
            "  8.67188    8.71094    8.75       8.78906    8.82812    8.86719\n",
            "  8.90625    8.94531    8.98438    9.02344    9.0625     9.10156\n",
            "  9.14062    9.17969    9.21875    9.25781    9.29688    9.33594\n",
            "  9.375      9.41406    9.45312    9.49219    9.53125    9.57031\n",
            "  9.60938    9.64844    9.6875     9.72656    9.76562    9.80469\n",
            "  9.84375    9.88281    9.92188    9.96094   10.       ]\n"
          ]
        }
      ]
    },
    {
      "cell_type": "code",
      "source": [
        "def keep_first_zero_time(df, time_vec, traj_len=257, tol=1e-8):\n",
        "\n",
        "    cleaned = []\n",
        "    num_traj = len(df) // traj_len\n",
        "\n",
        "    for i in range(num_traj):\n",
        "        start = i * traj_len\n",
        "        end = (i + 1) * traj_len\n",
        "        traj = df.iloc[start:end].copy()\n",
        "\n",
        "        traj_features = traj.iloc[:, :-1]\n",
        "\n",
        "        zero_mask = (np.abs(traj_features.values) < tol).all(axis=1)\n",
        "\n",
        "        if zero_mask.any():\n",
        "            first_zero_rel = int(np.argmax(zero_mask))   # posizione relativa\n",
        "            # change the t=0 to t=time_vec[i]\n",
        "            traj.iat[first_zero_rel, 0] = time_vec[first_zero_rel]\n",
        "            traj = traj.iloc[:first_zero_rel + 1]\n",
        "\n",
        "        cleaned.append(traj)\n",
        "\n",
        "    cleaned_df = pd.concat(cleaned).reset_index(drop=True)\n",
        "    return cleaned_df"
      ],
      "metadata": {
        "id": "oYiXKZ0bFSVg"
      },
      "execution_count": 9,
      "outputs": []
    },
    {
      "cell_type": "code",
      "source": [
        "train_first_row_time=keep_first_zero_time(train, time_vec, traj_len=257, tol=1e-8)"
      ],
      "metadata": {
        "id": "eG3IWGqwFUnx"
      },
      "execution_count": 10,
      "outputs": []
    },
    {
      "cell_type": "markdown",
      "source": [
        "**KNN**"
      ],
      "metadata": {
        "id": "DFTx8kRCFvX9"
      }
    },
    {
      "cell_type": "code",
      "source": [
        "import numpy as np\n",
        "import pandas as pd\n",
        "import matplotlib.pyplot as plt\n",
        "from sklearn.neighbors import KNeighborsRegressor\n",
        "from sklearn.metrics import mean_squared_error\n",
        "import time"
      ],
      "metadata": {
        "id": "8lQpvS-SGMlp"
      },
      "execution_count": 11,
      "outputs": []
    },
    {
      "cell_type": "code",
      "source": [
        "def validate_knn_regression(X_train, y_train, X_val, y_val, k=range(1,15)):\n",
        "\n",
        "    results = []\n",
        "\n",
        "    for n in k:\n",
        "        start_train = time.time()\n",
        "        model = KNeighborsRegressor(n_neighbors=n)\n",
        "        model.fit(X_train, y_train)\n",
        "        end_train = time.time()\n",
        "        train_time = end_train - start_train\n",
        "\n",
        "        start_pred = time.time()\n",
        "        y_pred = model.predict(X_val)\n",
        "        end_pred = time.time()\n",
        "        inference_time = end_pred - start_pred\n",
        "\n",
        "        rmse = mean_squared_error(y_val, y_pred, squared=False)\n",
        "        results.append([n, train_time, inference_time, rmse])\n",
        "        print(f\"k={n:2d} | RMSE={rmse:.4f} | Train={train_time:.4f}s | Predict={inference_time:.4f}s\")\n",
        "\n",
        "    results_df = pd.DataFrame(results, columns=[\"k\", \"train_time\", \"inference_time\", \"RMSE\"])\n",
        "\n",
        "    # --- Plot RMSE vs k ---\n",
        "    plt.figure(figsize=(8,5))\n",
        "    plt.plot(results_df[\"k\"], results_df[\"RMSE\"], marker='o', label=\"Validation RMSE\")\n",
        "    plt.title(\"kNN Regression – Validation RMSE vs k\")\n",
        "    plt.xlabel(\"Number of Neighbors (k)\")\n",
        "    plt.ylabel(\"RMSE\")\n",
        "    plt.grid(True)\n",
        "    plt.legend()\n",
        "    plt.show()\n",
        "\n",
        "    # --- Plot training/inference times ---\n",
        "    plt.figure(figsize=(8,5))\n",
        "    plt.plot(results_df[\"k\"], results_df[\"train_time\"], marker='o', label=\"Training time (s)\")\n",
        "    plt.plot(results_df[\"k\"], results_df[\"inference_time\"], marker='o', label=\"Inference time (s)\")\n",
        "    plt.title(\"kNN – Computational Cost vs k\")\n",
        "    plt.xlabel(\"Number of Neighbors (k)\")\n",
        "    plt.ylabel(\"Time (seconds)\")\n",
        "    plt.grid(True)\n",
        "    plt.legend()\n",
        "    plt.show()\n",
        "\n",
        "    return results_df\n",
        "\n"
      ],
      "metadata": {
        "id": "RYIWlnXGFVNy"
      },
      "execution_count": 12,
      "outputs": []
    }
  ]
}